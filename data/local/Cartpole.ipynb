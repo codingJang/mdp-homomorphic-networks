{
 "cells": [
  {
   "cell_type": "code",
   "execution_count": 40,
   "metadata": {},
   "outputs": [],
   "source": [
    "import matplotlib.pyplot as plt\n",
    "import numpy as np\n",
    "\n",
    "def plot_mixer_quant(run_collector, title, key=\"ReturnAverage\", max_n=None, labels=None, xmax=None, colors=None, \n",
    "                     lines=None):\n",
    "    \"\"\"\n",
    "    Plot quantiles over a number of runs\n",
    "    \"\"\"\n",
    "    train = run_collector[key]\n",
    "\n",
    "    for i, key in enumerate(train.keys()):\n",
    "        runs = train[key]\n",
    "        train_quantiles = get_quant_stats(runs, max_n=max_n, xmax=xmax)\n",
    "\n",
    "        train_x = range(len(train_quantiles[1]))\n",
    "\n",
    "        train_q1 = np.array(train_quantiles[0])\n",
    "        train_qmean = np.array(train_quantiles[1])\n",
    "        train_q2 = np.array(train_quantiles[2])\n",
    "        \n",
    "\n",
    "        qmean = train_qmean\n",
    "        q1_offset = qmean - train_q1\n",
    "        q2_offset = train_q2 - qmean\n",
    "\n",
    "        plt.fill_between(train_x, qmean-q1_offset, qmean+q2_offset, alpha=0.2, color=colors[i])\n",
    "        plt.plot(train_x, qmean, color=colors[i], label=labels[i], linestyle=lines[i])\n",
    "        \n",
    "\n",
    "    plt.ylabel(\"Average Return\")\n",
    "    plt.xlabel(\"Time steps (x 500) \")\n",
    "    plt.legend(loc='lower right')\n",
    "    plt.grid(True, linewidth=0.25)\n",
    "    plt.title(title)\n",
    "    plt.show()"
   ]
  },
  {
   "cell_type": "code",
   "execution_count": 41,
   "metadata": {},
   "outputs": [],
   "source": [
    "from scipy.stats import mstats\n",
    "\n",
    "def get_quant_stats(runs, max_n=None, xmax=None):\n",
    "    \"\"\"\n",
    "    Get 25%, 50% and 75% quantiles\n",
    "    \"\"\"\n",
    "    if xmax is None:\n",
    "        runs = [x for x in runs if len(x) == 201]\n",
    "    else:\n",
    "        runs = [x[:xmax] for x in runs if len(x) >= xmax ]\n",
    "    runs = np.concatenate([np.expand_dims(np.array(x),0) for x in runs], axis=0)\n",
    "    if max_n is not None:\n",
    "        runs = runs[:max_n]\n",
    "    quantiles = mstats.mquantiles(runs, axis=0)\n",
    "    return quantiles"
   ]
  },
  {
   "cell_type": "code",
   "execution_count": 42,
   "metadata": {},
   "outputs": [
    {
     "ename": "IndexError",
     "evalue": "list index out of range",
     "output_type": "error",
     "traceback": [
      "\u001b[0;31m---------------------------------------------------------------------------\u001b[0m",
      "\u001b[0;31mIndexError\u001b[0m                                Traceback (most recent call last)",
      "Cell \u001b[0;32mIn[42], line 25\u001b[0m\n\u001b[1;32m     22\u001b[0m split_on \u001b[38;5;241m=\u001b[39m [\u001b[38;5;124m\"\u001b[39m\u001b[38;5;124mconst\u001b[39m\u001b[38;5;124m\"\u001b[39m]\n\u001b[1;32m     24\u001b[0m \u001b[38;5;66;03m# Collects the relevant logs\u001b[39;00m\n\u001b[0;32m---> 25\u001b[0m run_collector \u001b[38;5;241m=\u001b[39m \u001b[43mget_run_collector\u001b[49m\u001b[43m(\u001b[49m\u001b[43msplit_on\u001b[49m\u001b[43m,\u001b[49m\u001b[43m \u001b[49m\u001b[43mtop_folders\u001b[49m\u001b[43m,\u001b[49m\u001b[43m \u001b[49m\u001b[43mfolders\u001b[49m\u001b[43m,\u001b[49m\u001b[43m \u001b[49m\u001b[43mvalues\u001b[49m\u001b[43m)\u001b[49m\n\u001b[1;32m     27\u001b[0m \u001b[38;5;66;03m# Plot wrapper\u001b[39;00m\n\u001b[1;32m     28\u001b[0m plot_mixer_quant(run_collector, title\u001b[38;5;241m=\u001b[39m\u001b[38;5;124m\"\u001b[39m\u001b[38;5;124m\"\u001b[39m, key\u001b[38;5;241m=\u001b[39m\u001b[38;5;124m\"\u001b[39m\u001b[38;5;124mReturnAverage\u001b[39m\u001b[38;5;124m\"\u001b[39m, labels\u001b[38;5;241m=\u001b[39mlabels, xmax\u001b[38;5;241m=\u001b[39m\u001b[38;5;241m150\u001b[39m, colors\u001b[38;5;241m=\u001b[39mcolors, lines\u001b[38;5;241m=\u001b[39mlines)\n",
      "File \u001b[0;32m~/Projects/mdp-homomorphic-networks/data/local/helpers.py:107\u001b[0m, in \u001b[0;36mget_run_collector\u001b[0;34m(split_on, top_folders, folders, values)\u001b[0m\n\u001b[1;32m    105\u001b[0m run_collector \u001b[38;5;241m=\u001b[39m {key: {} \u001b[38;5;28;01mfor\u001b[39;00m key \u001b[38;5;129;01min\u001b[39;00m values}\n\u001b[1;32m    106\u001b[0m \u001b[38;5;28;01mfor\u001b[39;00m folder \u001b[38;5;129;01min\u001b[39;00m folders:\n\u001b[0;32m--> 107\u001b[0m     fldr \u001b[38;5;241m=\u001b[39m \u001b[43mFolder\u001b[49m\u001b[43m(\u001b[49m\u001b[43mtop_folders\u001b[49m\u001b[43m,\u001b[49m\u001b[43m \u001b[49m\u001b[43mfolder\u001b[49m\u001b[43m)\u001b[49m\n\u001b[1;32m    108\u001b[0m     splitter_key \u001b[38;5;241m=\u001b[39m \u001b[38;5;124m\"\u001b[39m\u001b[38;5;124m\"\u001b[39m\n\u001b[1;32m    109\u001b[0m     \u001b[38;5;28;01mfor\u001b[39;00m so \u001b[38;5;129;01min\u001b[39;00m split_on:\n",
      "File \u001b[0;32m~/Projects/mdp-homomorphic-networks/data/local/helpers.py:55\u001b[0m, in \u001b[0;36mFolder.__init__\u001b[0;34m(self, top_folders, name)\u001b[0m\n\u001b[1;32m     53\u001b[0m \u001b[38;5;28mself\u001b[39m\u001b[38;5;241m.\u001b[39mtop_folders \u001b[38;5;241m=\u001b[39m \u001b[38;5;28mself\u001b[39m\u001b[38;5;241m.\u001b[39msearch(top_folders, name)\n\u001b[1;32m     54\u001b[0m \u001b[38;5;28mself\u001b[39m\u001b[38;5;241m.\u001b[39mname \u001b[38;5;241m=\u001b[39m name\n\u001b[0;32m---> 55\u001b[0m param_loc \u001b[38;5;241m=\u001b[39m os\u001b[38;5;241m.\u001b[39mpath\u001b[38;5;241m.\u001b[39mjoin(\u001b[38;5;28;43mself\u001b[39;49m\u001b[38;5;241;43m.\u001b[39;49m\u001b[43mtop_folders\u001b[49m\u001b[43m[\u001b[49m\u001b[38;5;241;43m0\u001b[39;49m\u001b[43m]\u001b[49m, name)\n\u001b[1;32m     56\u001b[0m \u001b[38;5;28mself\u001b[39m\u001b[38;5;241m.\u001b[39mparam_dict \u001b[38;5;241m=\u001b[39m get_params(param_loc)\n",
      "\u001b[0;31mIndexError\u001b[0m: list index out of range"
     ]
    }
   ],
   "source": [
    "from helpers import Folder, get_run_collector\n",
    "\n",
    "# Name of folder that logs are stored in and the lable\n",
    "folders = []\n",
    "labels = []\n",
    "for const in [0.01, 0.015, 0.02, 0.03, 1.00]:\n",
    "    folders.append(f\"CartpoleExperiment_equivariant_{const}\")\n",
    "    labels.append(f\"{const}\")\n",
    "# Plot colors\n",
    "colors = [\"#009999\", \"#FFA500\", \"#FF3333\", \"#800080\", \"#3d3d3d\"] #, \"#616161\"]\n",
    "# Plot linestyles\n",
    "lines = [\"solid\", \"solid\", \"solid\", \"solid\", \"solid\"] #], \"solid\"]\n",
    "\n",
    "# Every run is stored in a top level folder named for the date it was started on. Replace this list with the \n",
    "# correct date/folder names\n",
    "top_folders = [\"20240206\", \"20240207\"]\n",
    "\n",
    "# Can also replace this with one of the other values logged during training, e.g. ReturnMax or ReturnMedian\n",
    "values = [\"ReturnAverage\"]\n",
    "# If this list is empty, all runs regardless of setting are aggregated. \n",
    "# If you are tuning learning rates, split on \"lr\" as well\n",
    "split_on = [\"const\"]\n",
    "\n",
    "# Collects the relevant logs\n",
    "run_collector = get_run_collector(split_on, top_folders, folders, values)\n",
    "\n",
    "# Plot wrapper\n",
    "plot_mixer_quant(run_collector, title=\"\", key=\"ReturnAverage\", labels=labels, xmax=150, colors=colors, lines=lines)"
   ]
  }
 ],
 "metadata": {
  "kernelspec": {
   "display_name": "rlpyt",
   "language": "python",
   "name": "python3"
  },
  "language_info": {
   "codemirror_mode": {
    "name": "ipython",
    "version": 3
   },
   "file_extension": ".py",
   "mimetype": "text/x-python",
   "name": "python",
   "nbconvert_exporter": "python",
   "pygments_lexer": "ipython3",
   "version": "3.11.5"
  }
 },
 "nbformat": 4,
 "nbformat_minor": 2
}
